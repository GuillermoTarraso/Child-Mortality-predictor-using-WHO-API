{
  "cells": [
    {
      "cell_type": "markdown",
      "id": "c97c3894",
      "metadata": {
        "id": "c97c3894"
      },
      "source": [
        "## Under 5 deaths(CM_01) predictor"
      ]
    },
    {
      "cell_type": "markdown",
      "id": "051720df",
      "metadata": {
        "id": "051720df"
      },
      "source": [
        "*Maternal health interventions:*\n",
        "\n",
        "    Antenatal care coverage - at least one visit (in the two or three years preceding the survey) (%) (anc1)\n",
        "    Antenatal care coverage - at least four visits (in the two or three years preceding the survey) (%) (anc4)\n",
        "    Births attended by skilled health personnel (in the two or three years preceding the survey) (%) (sba)"
      ]
    },
    {
      "cell_type": "markdown",
      "id": "f3b93ba2",
      "metadata": {
        "id": "f3b93ba2"
      },
      "source": [
        "*Newborn and child health interventions:*\n",
        "\n",
        "Preventive care:\n",
        "\n",
        "    Early initiation of breastfeeding (%) (bfearly)\n",
        "    Children aged 6-59 months who received vitamin A supplementation (%) (vita)\n",
        "\n",
        "Childhood immunization:\n",
        "\n",
        "    BCG immunization coverage among one-year-olds (%) (vbcg)\n",
        "    Measles immunization coverage among one-year-olds (%) (vmsl)\n",
        "    Polio immunization coverage among one-year-olds (%) (vpolio)\n",
        "    DTP3 immunization coverage among one-year-olds (%) (vdpt)\n",
        "    Full immunization coverage among one-year-olds (%) (vfull)\n",
        "   \n",
        "Care-seeking for sick children:\n",
        "\n",
        "    Children aged < 5 years with diarrhoea receiving oral rehydration salts (%) (ors)\n",
        "    Children aged < 5 years with diarrhoea receiving oral rehydration therapy and continued feeding (%) (ort)\n",
        "    Children aged < 5 years with pneumonia symptoms taken to a health facility (%)\n",
        "\n"
      ]
    },
    {
      "cell_type": "code",
      "execution_count": 1,
      "id": "2f740141",
      "metadata": {
        "id": "2f740141"
      },
      "outputs": [],
      "source": [
        "import pandas as pd\n",
        "import numpy as np"
      ]
    },
    {
      "cell_type": "markdown",
      "id": "a094906a",
      "metadata": {
        "id": "a094906a"
      },
      "source": [
        "## Preprocess the data"
      ]
    },
    {
      "cell_type": "code",
      "execution_count": 4,
      "id": "cd7a235a",
      "metadata": {
        "id": "cd7a235a"
      },
      "outputs": [],
      "source": [
        "CM_01 = pd.read_csv('Death under 5.csv')"
      ]
    },
    {
      "cell_type": "code",
      "execution_count": 5,
      "id": "b3825c97",
      "metadata": {
        "colab": {
          "base_uri": "https://localhost:8080/"
        },
        "id": "b3825c97",
        "outputId": "0bb75be3-b335-4443-833c-40eecac837a0"
      },
      "outputs": [
        {
          "name": "stdout",
          "output_type": "stream",
          "text": [
            "<class 'pandas.core.frame.DataFrame'>\n",
            "RangeIndex: 32211 entries, 0 to 32210\n",
            "Data columns (total 34 columns):\n",
            " #   Column                      Non-Null Count  Dtype  \n",
            "---  ------                      --------------  -----  \n",
            " 0   IndicatorCode               32211 non-null  object \n",
            " 1   Indicator                   32211 non-null  object \n",
            " 2   ValueType                   32211 non-null  object \n",
            " 3   ParentLocationCode          32211 non-null  object \n",
            " 4   ParentLocation              32211 non-null  object \n",
            " 5   Location type               32211 non-null  object \n",
            " 6   SpatialDimValueCode         32211 non-null  object \n",
            " 7   Location                    32211 non-null  object \n",
            " 8   Period type                 32211 non-null  object \n",
            " 9   Period                      32211 non-null  int64  \n",
            " 10  IsLatestYear                32211 non-null  bool   \n",
            " 11  Dim1 type                   32211 non-null  object \n",
            " 12  Dim1                        32211 non-null  object \n",
            " 13  Dim1ValueCode               32211 non-null  object \n",
            " 14  Dim2 type                   0 non-null      float64\n",
            " 15  Dim2                        0 non-null      float64\n",
            " 16  Dim2ValueCode               0 non-null      float64\n",
            " 17  Dim3 type                   0 non-null      float64\n",
            " 18  Dim3                        0 non-null      float64\n",
            " 19  Dim3ValueCode               0 non-null      float64\n",
            " 20  DataSourceDimValueCode      0 non-null      float64\n",
            " 21  DataSource                  0 non-null      float64\n",
            " 22  FactValueNumericPrefix      0 non-null      float64\n",
            " 23  FactValueNumeric            32211 non-null  int64  \n",
            " 24  FactValueUoM                0 non-null      float64\n",
            " 25  FactValueNumericLowPrefix   0 non-null      float64\n",
            " 26  FactValueNumericLow         32211 non-null  int64  \n",
            " 27  FactValueNumericHighPrefix  0 non-null      float64\n",
            " 28  FactValueNumericHigh        32211 non-null  int64  \n",
            " 29  Value                       32211 non-null  object \n",
            " 30  FactValueTranslationID      0 non-null      float64\n",
            " 31  FactComments                0 non-null      float64\n",
            " 32  Language                    32211 non-null  object \n",
            " 33  DateModified                32211 non-null  object \n",
            "dtypes: bool(1), float64(14), int64(4), object(15)\n",
            "memory usage: 8.1+ MB\n"
          ]
        }
      ],
      "source": [
        "CM_01.info()"
      ]
    },
    {
      "cell_type": "code",
      "execution_count": 6,
      "id": "0ce65292",
      "metadata": {
        "id": "0ce65292"
      },
      "outputs": [],
      "source": [
        "# Delete the rows of male and female separate values\n",
        "indexSex = CM_01[(CM_01['Dim1'] != 'Both sexes')].index\n",
        "CM_01.drop(indexSex , inplace=True)"
      ]
    },
    {
      "cell_type": "code",
      "execution_count": 7,
      "id": "e6d64823",
      "metadata": {
        "id": "e6d64823"
      },
      "outputs": [],
      "source": [
        "# Funtion to drop usless columns\n",
        "def drop_col(table):\n",
        "    table.drop(columns=['IndicatorCode', 'Indicator', 'Dim1','ValueType','ParentLocationCode','ParentLocation','Location type','Period type','Language','FactComments', 'FactValueTranslationID', 'FactValueNumericHighPrefix', 'DataSource','FactValueNumericPrefix', 'FactValueUoM', 'FactValueNumericLowPrefix', 'Dim1 type', 'Dim1ValueCode', 'Dim2','Dim2 type', 'Dim2ValueCode', 'DataSourceDimValueCode', 'DataSource', 'FactValueNumericPrefix', 'Dim3 type', 'Dim3', 'Dim3ValueCode', 'Value', 'DateModified', 'IsLatestYear', 'SpatialDimValueCode', 'FactValueNumericLow', 'FactValueNumericHigh'], axis =1, inplace = True) \n",
        "    "
      ]
    },
    {
      "cell_type": "code",
      "execution_count": 8,
      "id": "f9931ef0",
      "metadata": {
        "id": "f9931ef0"
      },
      "outputs": [],
      "source": [
        "# Drop and rename columns in trajet table \n",
        "drop_col(CM_01)\n",
        "CM_01 = CM_01.rename({ 'Location' :'Country', 'Period' :'Year','FactValueNumeric': 'CM_01' }, axis=1)"
      ]
    },
    {
      "cell_type": "code",
      "execution_count": 9,
      "id": "0bc84cba",
      "metadata": {
        "id": "0bc84cba"
      },
      "outputs": [],
      "source": [
        "# Adjust the year of the main indicator (CM_01) to make predictions in the next years of the others indicators data callected\n",
        "CM_01.Year = CM_01.Year - 1\n",
        "CM_01.CM_01 = CM_01.CM_01 / 1000"
      ]
    },
    {
      "cell_type": "code",
      "execution_count": 10,
      "id": "f706162a",
      "metadata": {
        "id": "f706162a"
      },
      "outputs": [],
      "source": [
        "# Read csv for each indicator and add to a list\n",
        "indicators=[]\n",
        "indicators_names= []\n",
        "anc1 = pd.read_csv('Antenatal care coverage - at least one visit (in the two or three years preceding the survey) (%).csv')\n",
        "indicators.append(anc1)\n",
        "indicators_names.append('anc1')\n",
        "anc4 = pd.read_csv('Antenatal care coverage - at least four visits (in the two or three years preceding the survey) (%).csv')\n",
        "indicators.append(anc4)\n",
        "indicators_names.append('anc4')\n",
        "sba = pd.read_csv('Births attended by skilled health personnel (in the two or three years preceding the survey) (%).csv')\n",
        "indicators.append(sba)\n",
        "indicators_names.append('sba')\n",
        "bfearly = pd.read_csv('Early initiation of breastfeeding.csv')\n",
        "indicators.append(bfearly)\n",
        "indicators_names.append('bfearly')\n",
        "vita = pd.read_csv('Vitamin A suplementation.csv')\n",
        "indicators.append(vita)\n",
        "indicators_names.append('vita')\n",
        "vbcg = pd.read_csv('BCG immunization coverage among one-year-olds.csv')\n",
        "indicators.append(vbcg)\n",
        "indicators_names.append('vbcg')\n",
        "vmsl = pd.read_csv('Measles immunization coverage among one-year.csv')\n",
        "indicators.append(vmsl)\n",
        "indicators_names.append('vmsl')\n",
        "vpolio = pd.read_csv('Polio immunization coverage among one-year-olds.csv')\n",
        "indicators.append(vpolio)\n",
        "indicators_names.append('vpolio')\n",
        "vdpt = pd.read_csv('DTP3 immunization coverage among one-year-olds (%).csv')\n",
        "indicators.append(vdpt)\n",
        "indicators_names.append('vdpt')\n",
        "vfull = pd.read_csv('Full immunization coverage among one-year-olds (%).csv')\n",
        "indicators.append(vfull)\n",
        "indicators_names.append('vfull')\n",
        "ors = pd.read_csv('Children aged  5 years with diarrhoea receiving oral rehydration salts (%).csv')\n",
        "indicators.append(ors)\n",
        "indicators_names.append('ors')\n",
        "ort = pd.read_csv('Children aged  5 years with diarrhoea receiving oral rehydration therapy and continued feeding (%).csv')\n",
        "indicators.append(ort)\n",
        "indicators_names.append('ort')\n",
        "carep = pd.read_csv('Children aged  5 years with pneumonia symptoms taken to a health facility (%).csv')\n",
        "indicators.append(carep)\n",
        "indicators_names.append('carep')"
      ]
    },
    {
      "cell_type": "code",
      "execution_count": 11,
      "id": "95d5176c",
      "metadata": {
        "id": "95d5176c"
      },
      "outputs": [],
      "source": [
        "# Deleting usless columns and changes names in indicators. Merge the table of each indicator with the main indicator CM_01, using the average value of both age subgroups (15-19 and 20-49.\n",
        "position = 0\n",
        "unify = CM_01\n",
        "for i in indicators:\n",
        "    drop_col(i)\n",
        "    i.columns = ['Country', 'Year', indicators_names[position]]\n",
        "    unify =  pd.merge(unify, i, on=[\"Country\", \"Year\"])\n",
        "    position += 1\n",
        "unify = unify.groupby(['Country','Year'], as_index=False).mean()"
      ]
    },
    {
      "cell_type": "code",
      "execution_count": 12,
      "id": "0af52e13",
      "metadata": {
        "colab": {
          "base_uri": "https://localhost:8080/"
        },
        "id": "0af52e13",
        "outputId": "92c856e5-4ccf-4b3f-9fa9-e0d6e8eb7595"
      },
      "outputs": [
        {
          "name": "stdout",
          "output_type": "stream",
          "text": [
            "<class 'pandas.core.frame.DataFrame'>\n",
            "RangeIndex: 431 entries, 0 to 430\n",
            "Data columns (total 16 columns):\n",
            " #   Column   Non-Null Count  Dtype  \n",
            "---  ------   --------------  -----  \n",
            " 0   Country  431 non-null    object \n",
            " 1   Year     431 non-null    int64  \n",
            " 2   CM_01    431 non-null    float64\n",
            " 3   anc1     358 non-null    float64\n",
            " 4   anc4     358 non-null    float64\n",
            " 5   sba      358 non-null    float64\n",
            " 6   bfearly  369 non-null    float64\n",
            " 7   vita     180 non-null    float64\n",
            " 8   vbcg     265 non-null    float64\n",
            " 9   vmsl     265 non-null    float64\n",
            " 10  vpolio   265 non-null    float64\n",
            " 11  vdpt     265 non-null    float64\n",
            " 12  vfull    265 non-null    float64\n",
            " 13  ors      262 non-null    float64\n",
            " 14  ort      248 non-null    float64\n",
            " 15  carep    139 non-null    float64\n",
            "dtypes: float64(14), int64(1), object(1)\n",
            "memory usage: 54.0+ KB\n"
          ]
        }
      ],
      "source": [
        "unify.info()"
      ]
    },
    {
      "cell_type": "code",
      "execution_count": 13,
      "id": "5d5663f9",
      "metadata": {
        "id": "5d5663f9"
      },
      "outputs": [],
      "source": [
        "# Delete rows eith empy values\n",
        "df = unify.dropna().reset_index(drop=True)"
      ]
    },
    {
      "cell_type": "code",
      "execution_count": 14,
      "id": "21768c73",
      "metadata": {
        "id": "21768c73"
      },
      "outputs": [],
      "source": [
        "# Now the data of the years and contries maches, so this data is no longuer useful\n",
        "df.drop(columns = ['Country','Year'], axis = 1, inplace = True)"
      ]
    },
    {
      "cell_type": "code",
      "execution_count": 15,
      "id": "87bb8b01",
      "metadata": {
        "colab": {
          "base_uri": "https://localhost:8080/"
        },
        "id": "87bb8b01",
        "outputId": "8aa89985-e631-4c44-b1ea-34395879eb60"
      },
      "outputs": [
        {
          "name": "stdout",
          "output_type": "stream",
          "text": [
            "<class 'pandas.core.frame.DataFrame'>\n",
            "RangeIndex: 130 entries, 0 to 129\n",
            "Data columns (total 14 columns):\n",
            " #   Column   Non-Null Count  Dtype  \n",
            "---  ------   --------------  -----  \n",
            " 0   CM_01    130 non-null    float64\n",
            " 1   anc1     130 non-null    float64\n",
            " 2   anc4     130 non-null    float64\n",
            " 3   sba      130 non-null    float64\n",
            " 4   bfearly  130 non-null    float64\n",
            " 5   vita     130 non-null    float64\n",
            " 6   vbcg     130 non-null    float64\n",
            " 7   vmsl     130 non-null    float64\n",
            " 8   vpolio   130 non-null    float64\n",
            " 9   vdpt     130 non-null    float64\n",
            " 10  vfull    130 non-null    float64\n",
            " 11  ors      130 non-null    float64\n",
            " 12  ort      130 non-null    float64\n",
            " 13  carep    130 non-null    float64\n",
            "dtypes: float64(14)\n",
            "memory usage: 14.3 KB\n"
          ]
        }
      ],
      "source": [
        "df.info()"
      ]
    },
    {
      "cell_type": "markdown",
      "id": "708bf878",
      "metadata": {
        "id": "708bf878"
      },
      "source": [
        "# Create the model"
      ]
    },
    {
      "cell_type": "code",
      "execution_count": 16,
      "id": "9e342c69",
      "metadata": {
        "id": "9e342c69"
      },
      "outputs": [],
      "source": [
        "from sklearn.model_selection import train_test_split\n",
        "from sklearn.dummy import DummyRegressor\n",
        "from sklearn.metrics import mean_absolute_error\n",
        "from tensorflow.keras.layers import Dense\n",
        "from tensorflow.keras.models import Sequential\n",
        "from tensorflow.keras.optimizers import Adam"
      ]
    },
    {
      "cell_type": "code",
      "execution_count": 17,
      "id": "e39ba755",
      "metadata": {
        "colab": {
          "base_uri": "https://localhost:8080/",
          "height": 206
        },
        "id": "e39ba755",
        "outputId": "35bd633e-9e1e-4a4f-dccb-bf430828e2dd",
        "scrolled": true
      },
      "outputs": [
        {
          "data": {
            "text/html": [
              "\n",
              "  <div id=\"df-9d4c0dc2-6097-4bbc-9c1e-ae1d7109f259\">\n",
              "    <div class=\"colab-df-container\">\n",
              "      <div>\n",
              "<style scoped>\n",
              "    .dataframe tbody tr th:only-of-type {\n",
              "        vertical-align: middle;\n",
              "    }\n",
              "\n",
              "    .dataframe tbody tr th {\n",
              "        vertical-align: top;\n",
              "    }\n",
              "\n",
              "    .dataframe thead th {\n",
              "        text-align: right;\n",
              "    }\n",
              "</style>\n",
              "<table border=\"1\" class=\"dataframe\">\n",
              "  <thead>\n",
              "    <tr style=\"text-align: right;\">\n",
              "      <th></th>\n",
              "      <th>CM_01</th>\n",
              "      <th>anc1</th>\n",
              "      <th>anc4</th>\n",
              "      <th>sba</th>\n",
              "      <th>bfearly</th>\n",
              "      <th>vita</th>\n",
              "      <th>vbcg</th>\n",
              "      <th>vmsl</th>\n",
              "      <th>vpolio</th>\n",
              "      <th>vdpt</th>\n",
              "      <th>vfull</th>\n",
              "      <th>ors</th>\n",
              "      <th>ort</th>\n",
              "      <th>carep</th>\n",
              "    </tr>\n",
              "  </thead>\n",
              "  <tbody>\n",
              "    <tr>\n",
              "      <th>0</th>\n",
              "      <td>79.812</td>\n",
              "      <td>58.795</td>\n",
              "      <td>17.145</td>\n",
              "      <td>53.960</td>\n",
              "      <td>41.690</td>\n",
              "      <td>45.775</td>\n",
              "      <td>74.670</td>\n",
              "      <td>55.275</td>\n",
              "      <td>62.375</td>\n",
              "      <td>57.035</td>\n",
              "      <td>38.670</td>\n",
              "      <td>42.445</td>\n",
              "      <td>38.365</td>\n",
              "      <td>54.660</td>\n",
              "    </tr>\n",
              "    <tr>\n",
              "      <th>1</th>\n",
              "      <td>98.196</td>\n",
              "      <td>81.150</td>\n",
              "      <td>58.605</td>\n",
              "      <td>50.375</td>\n",
              "      <td>48.600</td>\n",
              "      <td>8.215</td>\n",
              "      <td>71.425</td>\n",
              "      <td>51.460</td>\n",
              "      <td>40.410</td>\n",
              "      <td>38.535</td>\n",
              "      <td>28.245</td>\n",
              "      <td>40.755</td>\n",
              "      <td>36.305</td>\n",
              "      <td>55.475</td>\n",
              "    </tr>\n",
              "    <tr>\n",
              "      <th>2</th>\n",
              "      <td>6.448</td>\n",
              "      <td>77.755</td>\n",
              "      <td>45.090</td>\n",
              "      <td>91.170</td>\n",
              "      <td>27.530</td>\n",
              "      <td>6.390</td>\n",
              "      <td>81.520</td>\n",
              "      <td>63.260</td>\n",
              "      <td>72.680</td>\n",
              "      <td>71.270</td>\n",
              "      <td>50.270</td>\n",
              "      <td>21.620</td>\n",
              "      <td>32.220</td>\n",
              "      <td>30.820</td>\n",
              "    </tr>\n",
              "    <tr>\n",
              "      <th>3</th>\n",
              "      <td>176.003</td>\n",
              "      <td>54.120</td>\n",
              "      <td>22.170</td>\n",
              "      <td>20.665</td>\n",
              "      <td>42.920</td>\n",
              "      <td>80.910</td>\n",
              "      <td>96.885</td>\n",
              "      <td>82.570</td>\n",
              "      <td>90.595</td>\n",
              "      <td>90.610</td>\n",
              "      <td>81.205</td>\n",
              "      <td>77.360</td>\n",
              "      <td>67.635</td>\n",
              "      <td>36.195</td>\n",
              "    </tr>\n",
              "    <tr>\n",
              "      <th>4</th>\n",
              "      <td>136.388</td>\n",
              "      <td>55.300</td>\n",
              "      <td>25.855</td>\n",
              "      <td>31.835</td>\n",
              "      <td>46.075</td>\n",
              "      <td>58.805</td>\n",
              "      <td>97.690</td>\n",
              "      <td>87.300</td>\n",
              "      <td>92.100</td>\n",
              "      <td>92.390</td>\n",
              "      <td>85.325</td>\n",
              "      <td>76.935</td>\n",
              "      <td>73.450</td>\n",
              "      <td>37.420</td>\n",
              "    </tr>\n",
              "  </tbody>\n",
              "</table>\n",
              "</div>\n",
              "      <button class=\"colab-df-convert\" onclick=\"convertToInteractive('df-9d4c0dc2-6097-4bbc-9c1e-ae1d7109f259')\"\n",
              "              title=\"Convert this dataframe to an interactive table.\"\n",
              "              style=\"display:none;\">\n",
              "        \n",
              "  <svg xmlns=\"http://www.w3.org/2000/svg\" height=\"24px\"viewBox=\"0 0 24 24\"\n",
              "       width=\"24px\">\n",
              "    <path d=\"M0 0h24v24H0V0z\" fill=\"none\"/>\n",
              "    <path d=\"M18.56 5.44l.94 2.06.94-2.06 2.06-.94-2.06-.94-.94-2.06-.94 2.06-2.06.94zm-11 1L8.5 8.5l.94-2.06 2.06-.94-2.06-.94L8.5 2.5l-.94 2.06-2.06.94zm10 10l.94 2.06.94-2.06 2.06-.94-2.06-.94-.94-2.06-.94 2.06-2.06.94z\"/><path d=\"M17.41 7.96l-1.37-1.37c-.4-.4-.92-.59-1.43-.59-.52 0-1.04.2-1.43.59L10.3 9.45l-7.72 7.72c-.78.78-.78 2.05 0 2.83L4 21.41c.39.39.9.59 1.41.59.51 0 1.02-.2 1.41-.59l7.78-7.78 2.81-2.81c.8-.78.8-2.07 0-2.86zM5.41 20L4 18.59l7.72-7.72 1.47 1.35L5.41 20z\"/>\n",
              "  </svg>\n",
              "      </button>\n",
              "      \n",
              "  <style>\n",
              "    .colab-df-container {\n",
              "      display:flex;\n",
              "      flex-wrap:wrap;\n",
              "      gap: 12px;\n",
              "    }\n",
              "\n",
              "    .colab-df-convert {\n",
              "      background-color: #E8F0FE;\n",
              "      border: none;\n",
              "      border-radius: 50%;\n",
              "      cursor: pointer;\n",
              "      display: none;\n",
              "      fill: #1967D2;\n",
              "      height: 32px;\n",
              "      padding: 0 0 0 0;\n",
              "      width: 32px;\n",
              "    }\n",
              "\n",
              "    .colab-df-convert:hover {\n",
              "      background-color: #E2EBFA;\n",
              "      box-shadow: 0px 1px 2px rgba(60, 64, 67, 0.3), 0px 1px 3px 1px rgba(60, 64, 67, 0.15);\n",
              "      fill: #174EA6;\n",
              "    }\n",
              "\n",
              "    [theme=dark] .colab-df-convert {\n",
              "      background-color: #3B4455;\n",
              "      fill: #D2E3FC;\n",
              "    }\n",
              "\n",
              "    [theme=dark] .colab-df-convert:hover {\n",
              "      background-color: #434B5C;\n",
              "      box-shadow: 0px 1px 3px 1px rgba(0, 0, 0, 0.15);\n",
              "      filter: drop-shadow(0px 1px 2px rgba(0, 0, 0, 0.3));\n",
              "      fill: #FFFFFF;\n",
              "    }\n",
              "  </style>\n",
              "\n",
              "      <script>\n",
              "        const buttonEl =\n",
              "          document.querySelector('#df-9d4c0dc2-6097-4bbc-9c1e-ae1d7109f259 button.colab-df-convert');\n",
              "        buttonEl.style.display =\n",
              "          google.colab.kernel.accessAllowed ? 'block' : 'none';\n",
              "\n",
              "        async function convertToInteractive(key) {\n",
              "          const element = document.querySelector('#df-9d4c0dc2-6097-4bbc-9c1e-ae1d7109f259');\n",
              "          const dataTable =\n",
              "            await google.colab.kernel.invokeFunction('convertToInteractive',\n",
              "                                                     [key], {});\n",
              "          if (!dataTable) return;\n",
              "\n",
              "          const docLinkHtml = 'Like what you see? Visit the ' +\n",
              "            '<a target=\"_blank\" href=https://colab.research.google.com/notebooks/data_table.ipynb>data table notebook</a>'\n",
              "            + ' to learn more about interactive tables.';\n",
              "          element.innerHTML = '';\n",
              "          dataTable['output_type'] = 'display_data';\n",
              "          await google.colab.output.renderOutput(dataTable, element);\n",
              "          const docLink = document.createElement('div');\n",
              "          docLink.innerHTML = docLinkHtml;\n",
              "          element.appendChild(docLink);\n",
              "        }\n",
              "      </script>\n",
              "    </div>\n",
              "  </div>\n",
              "  "
            ],
            "text/plain": [
              "     CM_01    anc1    anc4     sba  bfearly    vita    vbcg    vmsl  vpolio  \\\n",
              "0   79.812  58.795  17.145  53.960   41.690  45.775  74.670  55.275  62.375   \n",
              "1   98.196  81.150  58.605  50.375   48.600   8.215  71.425  51.460  40.410   \n",
              "2    6.448  77.755  45.090  91.170   27.530   6.390  81.520  63.260  72.680   \n",
              "3  176.003  54.120  22.170  20.665   42.920  80.910  96.885  82.570  90.595   \n",
              "4  136.388  55.300  25.855  31.835   46.075  58.805  97.690  87.300  92.100   \n",
              "\n",
              "     vdpt   vfull     ors     ort   carep  \n",
              "0  57.035  38.670  42.445  38.365  54.660  \n",
              "1  38.535  28.245  40.755  36.305  55.475  \n",
              "2  71.270  50.270  21.620  32.220  30.820  \n",
              "3  90.610  81.205  77.360  67.635  36.195  \n",
              "4  92.390  85.325  76.935  73.450  37.420  "
            ]
          },
          "execution_count": 17,
          "metadata": {},
          "output_type": "execute_result"
        }
      ],
      "source": [
        "df.head()"
      ]
    },
    {
      "cell_type": "code",
      "execution_count": 39,
      "id": "8d543709",
      "metadata": {
        "id": "8d543709"
      },
      "outputs": [],
      "source": [
        "# Prepare the data for the models\n",
        "X = df.drop(['CM_01'], axis = 1)\n",
        "y = pd.Series(df.CM_01)\n",
        "dummy = DummyRegressor()\n",
        "X_train, X_test, y_train, y_test = train_test_split(X, y, test_size=0.2 )\n"
      ]
    },
    {
      "cell_type": "code",
      "execution_count": 40,
      "id": "zXWQsop5Xdig",
      "metadata": {
        "id": "zXWQsop5Xdig"
      },
      "outputs": [],
      "source": [
        "# Create the Neuronal Network\n",
        "n_cols = X.shape[1]\n",
        "model = Sequential()\n",
        "model.add(Dense(1000, activation='relu', input_shape=(n_cols,)))\n",
        "model.add(Dense(1000, activation='sigmoid'))\n",
        "model.add(Dense(1000, activation='sigmoid'))\n",
        "model.add(Dense(1))"
      ]
    },
    {
      "cell_type": "code",
      "execution_count": 41,
      "id": "QPKodEvbXfSQ",
      "metadata": {
        "id": "QPKodEvbXfSQ"
      },
      "outputs": [],
      "source": [
        "my_optimizer=Adam(0.001)\n",
        "model.compile(optimizer=my_optimizer, loss='mean_squared_error')\n"
      ]
    },
    {
      "cell_type": "code",
      "execution_count": 42,
      "id": "luIJF7kDInQK",
      "metadata": {
        "colab": {
          "base_uri": "https://localhost:8080/"
        },
        "id": "luIJF7kDInQK",
        "outputId": "286230aa-ea07-46e9-905f-01cff4587234"
      },
      "outputs": [
        {
          "name": "stdout",
          "output_type": "stream",
          "text": [
            "Model: \"sequential_2\"\n",
            "_________________________________________________________________\n",
            " Layer (type)                Output Shape              Param #   \n",
            "=================================================================\n",
            " dense_8 (Dense)             (None, 1000)              14000     \n",
            "                                                                 \n",
            " dense_9 (Dense)             (None, 1000)              1001000   \n",
            "                                                                 \n",
            " dense_10 (Dense)            (None, 1000)              1001000   \n",
            "                                                                 \n",
            " dense_11 (Dense)            (None, 1)                 1001      \n",
            "                                                                 \n",
            "=================================================================\n",
            "Total params: 2,017,001\n",
            "Trainable params: 2,017,001\n",
            "Non-trainable params: 0\n",
            "_________________________________________________________________\n"
          ]
        }
      ],
      "source": [
        "model.summary()"
      ]
    },
    {
      "cell_type": "code",
      "execution_count": 43,
      "id": "b381cd10",
      "metadata": {
        "colab": {
          "base_uri": "https://localhost:8080/"
        },
        "id": "b381cd10",
        "outputId": "310c61a5-6a97-4250-c871-4c34c62039dc"
      },
      "outputs": [
        {
          "name": "stdout",
          "output_type": "stream",
          "text": [
            "4/4 [==============================] - 1s 28ms/step - loss: 68451.3281\n"
          ]
        },
        {
          "data": {
            "text/plain": [
              "<keras.callbacks.History at 0x7f47c1185370>"
            ]
          },
          "execution_count": 43,
          "metadata": {},
          "output_type": "execute_result"
        }
      ],
      "source": [
        "# Fit the models\n",
        "dummy.fit(X_train , y_train)\n",
        "model.fit(X_train, y_train)"
      ]
    },
    {
      "cell_type": "code",
      "execution_count": 44,
      "id": "fc38d3a3",
      "metadata": {
        "colab": {
          "base_uri": "https://localhost:8080/"
        },
        "id": "fc38d3a3",
        "outputId": "6dda51e1-7e64-4d83-e8fe-4afd4db973c6",
        "scrolled": true
      },
      "outputs": [
        {
          "name": "stdout",
          "output_type": "stream",
          "text": [
            "1/1 [==============================] - 0s 60ms/step\n"
          ]
        }
      ],
      "source": [
        "# Predict the value of the test samples\n",
        "y_dummy_pred = dummy.predict(X_test)\n",
        "y_pred = model.predict(X_test)"
      ]
    },
    {
      "cell_type": "code",
      "execution_count": 45,
      "id": "1b1cd94b",
      "metadata": {
        "colab": {
          "base_uri": "https://localhost:8080/"
        },
        "id": "1b1cd94b",
        "outputId": "e46fcb5b-0571-4a85-8fec-b8a200ef43d3"
      },
      "outputs": [
        {
          "name": "stdout",
          "output_type": "stream",
          "text": [
            "mae_dummy =  103.3040399408284\n",
            "mae_model =  65.60220485687256\n"
          ]
        }
      ],
      "source": [
        "#Evaluate the models\n",
        "mae_dummy = mean_absolute_error(y_dummy_pred,y_test)\n",
        "print( 'mae_dummy = ',mae_dummy)\n",
        "\n",
        "mae_model = mean_absolute_error(y_pred,y_test)\n",
        "print('mae_model = ',mae_model)\n"
      ]
    },
    {
      "cell_type": "markdown",
      "id": "2c5c45b5",
      "metadata": {
        "id": "2c5c45b5"
      },
      "source": [
        "# Use the model"
      ]
    },
    {
      "cell_type": "code",
      "execution_count": 46,
      "id": "905883f1",
      "metadata": {
        "id": "905883f1"
      },
      "outputs": [],
      "source": [
        "import requests\n",
        "from bs4 import BeautifulSoup\n",
        "import lxml\n",
        "from statistics import mean"
      ]
    },
    {
      "cell_type": "markdown",
      "id": "e8a31f69",
      "metadata": {
        "id": "e8a31f69"
      },
      "source": [
        "#### List of countries\n",
        "\n",
        "![image.png](attachment:image.png)"
      ]
    },
    {
      "cell_type": "code",
      "execution_count": 47,
      "id": "0f12b0d0",
      "metadata": {
        "colab": {
          "base_uri": "https://localhost:8080/"
        },
        "id": "0f12b0d0",
        "outputId": "ef8aafc1-29f4-46da-ce67-248fbe543ccf"
      },
      "outputs": [
        {
          "name": "stdout",
          "output_type": "stream",
          "text": [
            "Country id:PER\n",
            "Year:2020\n"
          ]
        }
      ],
      "source": [
        "country = input('Country id:' )\n",
        "\n",
        "year = int(input('Year:' ))"
      ]
    },
    {
      "cell_type": "code",
      "execution_count": 48,
      "id": "2bd1750d",
      "metadata": {
        "id": "2bd1750d"
      },
      "outputs": [],
      "source": [
        "# Funtion to obtain the indicator's data of country and year requested using WHO API\n",
        "def indicator_value(indicator):\n",
        "    url = f'http://apps.who.int/gho/athena/api/GHO/{indicator}?filter=COUNTRY:{country};YEAR:{year}'\n",
        "\n",
        "    payload={}\n",
        "    headers = {\n",
        "      'Cookie': '__cfruid=e40cdf9f678c428b8fa25d00bd7d9d1228e6a84c-1671007491; TS012842ba=015dd60f3ede71b35db2c4052fb9c8d245b291293986371d7e475739811c20b1418095cd786bff89f227ec9dfe5da3b1aa36b639ad; TS01a71ea7=015dd60f3ede71b35db2c4052fb9c8d245b291293986371d7e475739811c20b1418095cd786bff89f227ec9dfe5da3b1aa36b639ad; TS01b735ab=015dd60f3eb5d81715a168bf63129f32a589d5c7da2878d9c7892e4bcebdd943aad6a974d17c5088c7e3082ec4631f78344c5ab388'\n",
        "    }\n",
        "\n",
        "    response = requests.request(\"GET\", url, headers=headers, data=payload)\n",
        "\n",
        "    doc = BeautifulSoup(response.text, \"lxml\")\n",
        "\n",
        "    obs = doc.find_all('dim', category='AGEGROUP')\n",
        "    ind_values = []\n",
        "    for i in obs:\n",
        "      father = i.parent\n",
        "      string= father.display.string\n",
        "      value = string[0:4]\n",
        "      # Try to convert the string to a float\n",
        "      try:\n",
        "      # Convert the string to a float and add it to the list\n",
        "        ind_values.append(float(value))\n",
        "      except ValueError:\n",
        "      # If the string cannot be converted to a float, do nothing\n",
        "        pass\n",
        "    try:\n",
        "      ind_value = (mean(ind_values))\n",
        "    except ValueError:\n",
        "      ind_value = ''                         \n",
        "    return ind_value\n",
        "    "
      ]
    },
    {
      "cell_type": "code",
      "execution_count": 49,
      "id": "0e0cc4b4",
      "metadata": {
        "colab": {
          "base_uri": "https://localhost:8080/"
        },
        "id": "0e0cc4b4",
        "outputId": "22fd6137-a462-4695-acf8-f4e8e097c757"
      },
      "outputs": [
        {
          "name": "stdout",
          "output_type": "stream",
          "text": [
            "{'anc1': 97.15, 'anc4': 93.65, 'sba': 94.9, 'bfearly': 50.9, 'vita': 4.1, 'vbcg': 93.2, 'vmsl': 81.94999999999999, 'vpolio': 80.2, 'vdpt': 77.85, 'vfull': 66.75, 'ors': 15.25, 'ort': 37.25, 'carep': 58.8}\n",
            "    anc1   anc4   sba  bfearly  vita  vbcg   vmsl  vpolio   vdpt  vfull  \\\n",
            "0  97.15  93.65  94.9     50.9   4.1  93.2  81.95    80.2  77.85  66.75   \n",
            "\n",
            "     ors    ort  carep  \n",
            "0  15.25  37.25   58.8  \n"
          ]
        }
      ],
      "source": [
        "# Save and organize the data\n",
        "indicators_list= ['anc1','anc4','sba', 'bfearly','vita','vbcg','vmsl','vpolio','vdpt','vfull','ors','ort','carep']\n",
        "indicators_values = {}\n",
        "for ind in indicators_list:\n",
        "    indicators_values[ind]=(indicator_value(ind))\n",
        "print(indicators_values)\n",
        "\n",
        "df_values = pd.DataFrame(indicators_values, columns=indicators_list, index = [0])\n",
        "print(df_values) \n"
      ]
    },
    {
      "cell_type": "code",
      "execution_count": 50,
      "id": "d44f9c49",
      "metadata": {
        "colab": {
          "base_uri": "https://localhost:8080/"
        },
        "id": "d44f9c49",
        "outputId": "db354937-55ae-4158-e4a2-dbf6e87cec18"
      },
      "outputs": [
        {
          "name": "stdout",
          "output_type": "stream",
          "text": [
            "1/1 [==============================] - 0s 21ms/step\n",
            "The predicted Under-five mortality rate (probability of dying by age 5 per 1000 live births) in PER for 2021 is : [[19.488977]]\n"
          ]
        }
      ],
      "source": [
        "# Check if any of the columns have an empty value and give the result\n",
        "if df_values.eq('').any().any():\n",
        "    print('One or more columns have an empty value')\n",
        "else:\n",
        "    deaths_under_5 = model.predict(df_values)\n",
        "    print(f'The predicted Under-five mortality rate (probability of dying by age 5 per 1000 live births) in {country} for {year+1} is : {deaths_under_5}')"
      ]
    },
    {
      "cell_type": "code",
      "execution_count": 50,
      "id": "e58c8369",
      "metadata": {
        "id": "e58c8369"
      },
      "outputs": [],
      "source": []
    },
    {
      "cell_type": "code",
      "execution_count": 50,
      "id": "6538f703",
      "metadata": {
        "id": "6538f703"
      },
      "outputs": [],
      "source": []
    }
  ],
  "metadata": {
    "colab": {
      "provenance": []
    },
    "kernelspec": {
      "display_name": "Python 3",
      "language": "python",
      "name": "python3"
    },
    "language_info": {
      "codemirror_mode": {
        "name": "ipython",
        "version": 3
      },
      "file_extension": ".py",
      "mimetype": "text/x-python",
      "name": "python",
      "nbconvert_exporter": "python",
      "pygments_lexer": "ipython3",
      "version": "3.11.0 (main, Oct 24 2022, 18:26:48) [MSC v.1933 64 bit (AMD64)]"
    },
    "vscode": {
      "interpreter": {
        "hash": "30c35538c5c0f13e35eee81d77ec123b672f23967a5c46d85a95a72049c259fb"
      }
    }
  },
  "nbformat": 4,
  "nbformat_minor": 5
}
